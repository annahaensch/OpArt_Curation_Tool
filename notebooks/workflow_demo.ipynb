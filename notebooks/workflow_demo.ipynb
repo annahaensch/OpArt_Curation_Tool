{
 "cells": [
  {
   "cell_type": "code",
   "execution_count": 1,
   "metadata": {},
   "outputs": [],
   "source": [
    "import pandas as pd\n",
    "import numpy as np\n",
    "\n",
    "import os\n",
    "ROOT = os.popen(\"git rev-parse --show-toplevel\").read().split(\"\\n\")[0]\n",
    "\n",
    "import sys\n",
    "sys.path.append(ROOT)\n",
    "\n",
    "import src as sc"
   ]
  },
  {
   "cell_type": "markdown",
   "metadata": {},
   "source": [
    "# Prepare Campus Data\n",
    "\n",
    "The cell below can also be carried out in one step by running \n",
    "```\n",
    "> python src/preprocessing.py\n",
    "> python src/locations.py \n",
    "```\n",
    "from the top level git directory."
   ]
  },
  {
   "cell_type": "code",
   "execution_count": null,
   "metadata": {},
   "outputs": [],
   "source": [
    "# Dataframe with one row per enrolled student.\n",
    "student_df = sc.get_student_enrollment_data()\n",
    "\n",
    "# One-hot table with halls as rows and schools as columns.\n",
    "hall_df = sc.get_hall_by_school_table(student_df = student_df)\n",
    "\n",
    "\n",
    "# Proportionally assigns students to buildings, writing\n",
    "# student dataframes to csv as:\n",
    "#      \"../data/filled_buildings/<building_name>_students.csv\"\n",
    "\n",
    "sc.fill_buildings(student_df = student_df, hall_df = hall_df)\n"
   ]
  },
  {
   "cell_type": "markdown",
   "metadata": {},
   "source": [
    "# Compute Cost & Assignment Matrix\n",
    "\n",
    "The cell below can also be carried out in one step by running\n",
    "```\n",
    "> python src/learning.py <beta> <lambda> <tau> <init> <iterations>\n",
    "```\n",
    "from the top level git directory.  Here the values in angle brackets should be replaced by the appropriate values, where \n",
    "\n",
    "```\n",
    "        beta: (float) beta factor determines weight of the diversity \n",
    "            objectives in the optimization (i.e. \"term 1\").\n",
    "        lam: (float) lambda factor determines weight of artwork capacity \n",
    "            constraints in optimization (i.e. \"term 2\").\n",
    "        tau: (float) tau factor determines weight of preference for current \n",
    "            assignment in optimization (i.e. \"term 3\").\n",
    "        init: (int) one of the following: \n",
    "                1 - identity matrix initialization\n",
    "                2 - uniform initialization\n",
    "                3 - current assignment initialization\n",
    "                4 - random permutation initialization\n",
    "        iterations: (int) number of iterations of gradient descent\n",
    "```\n",
    "Output will be printed to `output` folder."
   ]
  },
  {
   "cell_type": "code",
   "execution_count": null,
   "metadata": {},
   "outputs": [],
   "source": [
    "# Load data\n",
    "hall_df, student_df, art_df = sc.load_data()\n"
   ]
  },
  {
   "cell_type": "code",
   "execution_count": null,
   "metadata": {},
   "outputs": [],
   "source": [
    "# Get building_capacity_df\n",
    "building_capacity_df = sc.get_building_capacity_df()\n",
    "building_capacity_df"
   ]
  },
  {
   "cell_type": "code",
   "execution_count": null,
   "metadata": {},
   "outputs": [],
   "source": [
    "# Get art_capacity_df\n",
    "art_capacity_df = sc.get_art_capacity_with_downsampling(student_df,art_df,categories = [\"gender\",\"race\"])\n",
    "art_capacity_df"
   ]
  },
  {
   "cell_type": "code",
   "execution_count": null,
   "metadata": {
    "scrolled": false
   },
   "outputs": [],
   "source": [
    "# Compute full n_buildings x n_artworks cost matrix.\n",
    "cost_df = sc.compute_cost_matrix(hall_df = hall_df,\n",
    "                                 student_df = student_df,\n",
    "                                 art_df = art_df,\n",
    "                                 categories = [\"gender\",\"race\"],\n",
    "                                 alpha = -1,\n",
    "                                 beta = 100)\n",
    "\n",
    "cost_df"
   ]
  },
  {
   "cell_type": "code",
   "execution_count": null,
   "metadata": {},
   "outputs": [],
   "source": [
    "# Compute normalizing constants for lambda and tau\n",
    "norm_lam_factor, norm_tau_factor = sc.get_normalizing_constants(\n",
    "                                                hall_df = hall_df,\n",
    "                                                student_df = student_df,\n",
    "                                                art_df = art_df\n",
    "                                                               )\n",
    "\n",
    "norm_lam_factor, norm_tau_factor"
   ]
  },
  {
   "cell_type": "code",
   "execution_count": null,
   "metadata": {},
   "outputs": [],
   "source": [
    "assignment_df = sc.learn_optimal_assignment(\n",
    "                             hall_df, \n",
    "                             student_df,\n",
    "                             art_df,\n",
    "                             cost_df, \n",
    "                             lam = norm_lam_factor*10000, \n",
    "                             tau=norm_tau_factor*800,\n",
    "                             init = 4,\n",
    "                             iterations = 1000\n",
    "                             ) \n",
    "\n",
    "assignment_df"
   ]
  },
  {
   "cell_type": "markdown",
   "metadata": {},
   "source": [
    "# Create Heatmap Visualization"
   ]
  },
  {
   "cell_type": "code",
   "execution_count": null,
   "metadata": {},
   "outputs": [],
   "source": [
    "clipped_assignment_df = assignment_df.clip(upper = 1)\n",
    "sc.assignment_heatmat(assignment_df)"
   ]
  },
  {
   "cell_type": "markdown",
   "metadata": {},
   "source": [
    "## Validation"
   ]
  },
  {
   "cell_type": "code",
   "execution_count": null,
   "metadata": {},
   "outputs": [],
   "source": [
    "sc.baseline_average_value(category = \"gender\", in_group = \"Man\")"
   ]
  },
  {
   "cell_type": "code",
   "execution_count": null,
   "metadata": {},
   "outputs": [],
   "source": [
    "sc.optimized_average_value(assignment_df, category = \"gender\", in_group = \"Man\")"
   ]
  },
  {
   "cell_type": "code",
   "execution_count": null,
   "metadata": {},
   "outputs": [],
   "source": [
    "sc.baseline_average_value(category = \"race\", in_group = \"White\")"
   ]
  },
  {
   "cell_type": "code",
   "execution_count": null,
   "metadata": {},
   "outputs": [],
   "source": [
    "sc.optimized_average_value(assignment_df, category = \"race\", in_group = \"White\")"
   ]
  },
  {
   "cell_type": "markdown",
   "metadata": {},
   "source": [
    "## Make Visualizations"
   ]
  },
  {
   "cell_type": "code",
   "execution_count": null,
   "metadata": {},
   "outputs": [],
   "source": [
    "sc.campus_building_map()"
   ]
  },
  {
   "cell_type": "code",
   "execution_count": null,
   "metadata": {},
   "outputs": [],
   "source": [
    "sc.beeswarm_building_gender(demo_cat = \"race\", building_list = [\"Aidekman\",\"CLIC\",\"dental_school\"])"
   ]
  },
  {
   "cell_type": "code",
   "execution_count": null,
   "metadata": {},
   "outputs": [],
   "source": [
    "hall_df, student_df, art_df = sc.load_data()\n",
    "sc.beeswarm_gender(demo_df = art_df, demo_cat = \"race\", title=\"Total Count by Race and Gender\")"
   ]
  },
  {
   "cell_type": "code",
   "execution_count": null,
   "metadata": {},
   "outputs": [],
   "source": []
  }
 ],
 "metadata": {
  "kernelspec": {
   "display_name": "Python 3 (ipykernel)",
   "language": "python",
   "name": "python3"
  },
  "language_info": {
   "codemirror_mode": {
    "name": "ipython",
    "version": 3
   },
   "file_extension": ".py",
   "mimetype": "text/x-python",
   "name": "python",
   "nbconvert_exporter": "python",
   "pygments_lexer": "ipython3",
   "version": "3.9.12"
  }
 },
 "nbformat": 4,
 "nbformat_minor": 4
}
