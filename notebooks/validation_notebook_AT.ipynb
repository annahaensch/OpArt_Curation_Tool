{
 "cells": [
  {
   "cell_type": "code",
   "execution_count": 1,
   "metadata": {},
   "outputs": [],
   "source": [
    "import pandas as pd\n",
    "import numpy as np\n",
    "\n",
    "import matplotlib.pyplot as plt\n",
    "import numpy.ma as ma\n",
    "from mpl_toolkits.axes_grid1 import make_axes_locatable\n",
    "\n",
    "import sys\n",
    "sys.path.append('..')\n",
    "\n",
    "import src as sc"
   ]
  },
  {
   "cell_type": "markdown",
   "metadata": {},
   "source": [
    "# Validation"
   ]
  },
  {
   "cell_type": "code",
   "execution_count": 2,
   "metadata": {},
   "outputs": [],
   "source": [
    "# Load data\n",
    "hall_df, student_df, art_df = sc.load_data()\n",
    "\n",
    "# Get art_capacity_df.\n",
    "art_capacity_df = sc.get_art_capacity_with_downsampling(art_df,\n",
    "                    categories = [\"gender\",\"race\"])\n",
    "# Get building_capacity_df.\n",
    "building_capacity_df = sc.get_building_capacity_df()\n",
    "building_capacity =  building_capacity_df.values\n",
    "art_capacity = art_capacity_df[\"capacity\"].values\n",
    "# Fill buildings\n",
    "sc.fill_buildings(student_df = student_df, hall_df = hall_df)"
   ]
  },
  {
   "cell_type": "code",
   "execution_count": 3,
   "metadata": {},
   "outputs": [
    {
     "name": "stdout",
     "output_type": "stream",
     "text": [
      "0.333765411835837\n",
      "3174.0801556993197\n",
      "3361.0272495949134\n"
     ]
    }
   ],
   "source": [
    "# Current assigment\n",
    "current_assignment = pd.read_csv(\"current_assignment_df.csv\", index_col = 0)\n",
    "current_assignment = np.array(current_assignment)\n",
    "current_assignment = current_assignment[:,0:11]\n",
    "\n",
    "df_baseline = pd.DataFrame(index = [\"Man\",\"Non-Man\",\"White\",\"Non-White\"])\n",
    "df_optimized = pd.DataFrame(index = [\"Man\",\"Non-Man\",\"White\",\"Non-White\"])\n",
    "\n",
    "num_buildings =  building_capacity_df.shape[0]\n",
    "\n",
    "\n",
    "\n",
    "\n",
    "    \n",
    "# Get baseline stats.\n",
    "#bs_gender = sc.baseline_average_value(category = \"gender\", in_group = \"Man\")\n",
    "#bs_race = sc.baseline_average_value(category = \"race\", in_group = \"White\")\n",
    "#df_baseline[i] = list(bs_gender) + list(bs_race)\n",
    "# Find the appropriate scaling between the first and second terms of the optimization objective\n",
    "# Fix alpha = -1\n",
    "# Vary beta as follows: beta = [0.01 0.1 1 10 100 1000]\n",
    "# For each beta, compute first term\n",
    "# Compute second term without lambda\n",
    "# See on average how large is the first term compared to the first\n",
    "beta_values = np.array([0.01, 0.1, 1, 10,100,1000])\n",
    "term1 = np.zeros((beta_values.shape[0],10))\n",
    "term2 = np.zeros((beta_values.shape[0],10))\n",
    "term3 = np.zeros((beta_values.shape[0],10))\n",
    "for m in range(beta_values.shape[0]):\n",
    "        # Compute full n_buildings x n_artworks cost matrix.\n",
    "    cost_df = sc.compute_cost_matrix(art_df = art_df, \n",
    "                                    hall_df = hall_df,\n",
    "                                    categories = [\"gender\",\"race\"],\n",
    "                                    alpha = -1,\n",
    "                                    beta = beta_values[m])\n",
    "    num_arts = cost_df.shape[1]\n",
    "    t = np.arange(1,num_arts + 1)\n",
    "    for k in range(1):\n",
    "        # Pick a random permutation in S\n",
    "        P = np.random.randn(num_buildings,num_arts)  \n",
    "        # Projection\n",
    "        for ii in range(num_buildings):\n",
    "            v = P[ii,:]\n",
    "            if np.all(v>0):\n",
    "                v = v/np.sum(v)\n",
    "                P[ii]=v * building_capacity[ii]\n",
    "            else:\n",
    "                mu = v[np.argsort(-v)]\n",
    "                tmp = np.divide(np.cumsum(mu)-building_capacity[ii],t)\n",
    "                idx_negative = np.argwhere(mu-tmp<=0)\n",
    "                try:\n",
    "                    idx_neg = idx_negative[0]\n",
    "                    idx_neg = idx_neg.item()\n",
    "                except:\n",
    "                    idx_neg = -1\n",
    "                theta = (np.sum(mu[0:idx_neg])-building_capacity[ii])/(idx_neg)\n",
    "                P[ii,:] =  np.maximum(P[ii,:]-theta,0)  \n",
    "        term1[m,k] = np.trace(np.matmul(np.transpose(cost_df.values),P))\n",
    "        term2[m,k] = np.linalg.norm(np.sum(P,axis=0)-art_capacity)**2\n",
    "        term3[m,k] = np.linalg.norm(P-current_assignment)**2\n",
    "term1_avg = np.mean(term1)\n",
    "term2_avg = np.mean(term2)\n",
    "term3_avg = np.mean(term3)\n",
    "lam_factor = term2_avg/term1_avg\n",
    "tau_factor = term3_avg/term1_avg\n",
    "print(term1_avg)\n",
    "print(term2_avg)\n",
    "print(term3_avg)"
   ]
  },
  {
   "cell_type": "code",
   "execution_count": 4,
   "metadata": {},
   "outputs": [],
   "source": [
    "df_opt_dict = { }\n",
    "for i in range(2):\n",
    "    df_optimized = pd.DataFrame(index = [\"Man\",\"Non-Man\",\"White\",\"Non-White\"])\n",
    "    sc.fill_buildings(student_df = student_df, hall_df = hall_df)\n",
    "    \n",
    "    # Get baseline stats.\n",
    "    bs_gender = sc.baseline_average_value(category = \"gender\", in_group = \"Man\")\n",
    "    bs_race = sc.baseline_average_value(category = \"race\", in_group = \"White\")\n",
    "    df_baseline[i] = list(bs_gender) + list(bs_race)\n",
    "    beta_values = np.array([0.01, 0.1, 1, 10,100,1000])\n",
    "    \n",
    "    # Compute cost matrix\n",
    "    cost_df = sc.compute_cost_matrix(art_df = art_df, \n",
    "                                    hall_df = hall_df,\n",
    "                                    categories = [\"gender\",\"race\"],\n",
    "                                    alpha = -1,\n",
    "                                    beta = beta_values[2])\n",
    "    # Reduce cost df to remove duplicate columns.\n",
    "    cost_df = cost_df.rename(columns = {art_capacity_df.loc[i,\"tuple\"]:art_capacity_df.loc[i,\"string\"] for i in art_capacity_df.index})\n",
    "    # Optimize assignment_df\n",
    "    #scaling_lam = np.array([0.01, 0.1, 1, 10,100])\n",
    "    scaling_lam = np.array([0.0,0.00001 ])\n",
    "    scaling_tau = np.array([0, 1.00])\n",
    "    \n",
    "    for p in scaling_lam:\n",
    "        for q in scaling_tau:\n",
    "            assignment_df = sc.learn_optimal_assignment(cost_df, \n",
    "                                 building_capacity_df, \n",
    "                                 art_capacity_df, current_assignment, \n",
    "                                 lam = lam_factor*p, tau=tau_factor*q, init=1) # lambda, you can change this.\n",
    "    \n",
    "            # Get optimized stats.\n",
    "            os_gender = sc.optimized_average_value(assignment_df.copy(), category = \"gender\", in_group = \"Man\")\n",
    "            os_race = sc.optimized_average_value(assignment_df.copy(), category = \"race\", in_group = \"White\")\n",
    "            df_optimized[f\"{p}_{q}\"] = list(os_gender) + list(os_race)\n",
    "    df_opt_dict[i] = df_optimized.copy()\n",
    "\n",
    "\n",
    "    \n",
    "#df_val = pd.DataFrame(index = df_optimized.index)\n",
    "#df_val[\"baseline_mean\"] = df_baseline.mean(axis = 1)\n",
    "#df_val[\"baseline_95_CI\"] = .975 * np.std(df_baseline, axis =1) / df_optimized.shape[1]\n",
    "#df_val[\"optimized_mean\"] = df_optimized.mean(axis = 1)\n",
    "#df_val[\"optimized_95_CI\"] = .975 * np.std(df_optimized, axis =1) / df_optimized.shape[1]\n",
    "#df_val"
   ]
  },
  {
   "cell_type": "code",
   "execution_count": 5,
   "metadata": {},
   "outputs": [
    {
     "data": {
      "text/html": [
       "<div>\n",
       "<style scoped>\n",
       "    .dataframe tbody tr th:only-of-type {\n",
       "        vertical-align: middle;\n",
       "    }\n",
       "\n",
       "    .dataframe tbody tr th {\n",
       "        vertical-align: top;\n",
       "    }\n",
       "\n",
       "    .dataframe thead th {\n",
       "        text-align: right;\n",
       "    }\n",
       "</style>\n",
       "<table border=\"1\" class=\"dataframe\">\n",
       "  <thead>\n",
       "    <tr style=\"text-align: right;\">\n",
       "      <th></th>\n",
       "      <th>0.0_0.0</th>\n",
       "      <th>0.0_1.0</th>\n",
       "      <th>1e-05_0.0</th>\n",
       "      <th>1e-05_1.0</th>\n",
       "    </tr>\n",
       "  </thead>\n",
       "  <tbody>\n",
       "    <tr>\n",
       "      <th>Man</th>\n",
       "      <td>0.039045</td>\n",
       "      <td>2.993557</td>\n",
       "      <td>0.264202</td>\n",
       "      <td>2.988027</td>\n",
       "    </tr>\n",
       "    <tr>\n",
       "      <th>Non-Man</th>\n",
       "      <td>0.090719</td>\n",
       "      <td>11.729602</td>\n",
       "      <td>0.034707</td>\n",
       "      <td>11.735362</td>\n",
       "    </tr>\n",
       "    <tr>\n",
       "      <th>White</th>\n",
       "      <td>0.000000</td>\n",
       "      <td>12.832021</td>\n",
       "      <td>0.129644</td>\n",
       "      <td>12.823045</td>\n",
       "    </tr>\n",
       "    <tr>\n",
       "      <th>Non-White</th>\n",
       "      <td>0.153998</td>\n",
       "      <td>2.031100</td>\n",
       "      <td>0.142729</td>\n",
       "      <td>2.041863</td>\n",
       "    </tr>\n",
       "  </tbody>\n",
       "</table>\n",
       "</div>"
      ],
      "text/plain": [
       "            0.0_0.0    0.0_1.0  1e-05_0.0  1e-05_1.0\n",
       "Man        0.039045   2.993557   0.264202   2.988027\n",
       "Non-Man    0.090719  11.729602   0.034707  11.735362\n",
       "White      0.000000  12.832021   0.129644  12.823045\n",
       "Non-White  0.153998   2.031100   0.142729   2.041863"
      ]
     },
     "execution_count": 5,
     "metadata": {},
     "output_type": "execute_result"
    }
   ],
   "source": [
    "df_optimized\n"
   ]
  },
  {
   "cell_type": "code",
   "execution_count": 6,
   "metadata": {},
   "outputs": [
    {
     "ename": "NameError",
     "evalue": "name 'df_val' is not defined",
     "output_type": "error",
     "traceback": [
      "\u001b[1;31m---------------------------------------------------------------------------\u001b[0m",
      "\u001b[1;31mNameError\u001b[0m                                 Traceback (most recent call last)",
      "\u001b[1;32m<ipython-input-6-a89effc0f67f>\u001b[0m in \u001b[0;36m<module>\u001b[1;34m\u001b[0m\n\u001b[1;32m----> 1\u001b[1;33m \u001b[0mdf_val\u001b[0m\u001b[1;33m\u001b[0m\u001b[1;33m\u001b[0m\u001b[0m\n\u001b[0m",
      "\u001b[1;31mNameError\u001b[0m: name 'df_val' is not defined"
     ]
    }
   ],
   "source": [
    "df_val"
   ]
  },
  {
   "cell_type": "code",
   "execution_count": 7,
   "metadata": {},
   "outputs": [
    {
     "data": {
      "text/plain": [
       "{0:             0.0_0.0    0.0_1.0  1e-05_0.0  1e-05_1.0\n",
       " Man        0.039002   2.951038   0.269928   2.945508\n",
       " Non-Man    0.091223  11.915734   0.031655  11.921496\n",
       " White      0.000000  12.796695   0.122568  12.787682\n",
       " Non-White  0.153539   2.043588   0.148942   2.054297,\n",
       " 1:             0.0_0.0    0.0_1.0  1e-05_0.0  1e-05_1.0\n",
       " Man        0.039045   2.993557   0.264202   2.988027\n",
       " Non-Man    0.090719  11.729602   0.034707  11.735362\n",
       " White      0.000000  12.832021   0.129644  12.823045\n",
       " Non-White  0.153998   2.031100   0.142729   2.041863}"
      ]
     },
     "execution_count": 7,
     "metadata": {},
     "output_type": "execute_result"
    }
   ],
   "source": [
    "df_opt_dict"
   ]
  },
  {
   "cell_type": "code",
   "execution_count": null,
   "metadata": {},
   "outputs": [],
   "source": []
  }
 ],
 "metadata": {
  "kernelspec": {
   "display_name": "Python 3",
   "language": "python",
   "name": "python3"
  },
  "language_info": {
   "codemirror_mode": {
    "name": "ipython",
    "version": 3
   },
   "file_extension": ".py",
   "mimetype": "text/x-python",
   "name": "python",
   "nbconvert_exporter": "python",
   "pygments_lexer": "ipython3",
   "version": "3.9.1"
  }
 },
 "nbformat": 4,
 "nbformat_minor": 4
}
